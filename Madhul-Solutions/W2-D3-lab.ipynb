{
 "cells": [
  {
   "cell_type": "markdown",
   "id": "75e2ef28-594f-4c18-9d22-c6b8cd40ead2",
   "metadata": {},
   "source": [
    "# Day 3 - Conversational AI - aka Chatbot!"
   ]
  },
  {
   "cell_type": "code",
   "execution_count": 2,
   "id": "70e39cd8-ec79-4e3e-9c26-5659d42d0861",
   "metadata": {},
   "outputs": [],
   "source": [
    "# imports\n",
    "\n",
    "import os\n",
    "from dotenv import load_dotenv\n",
    "from openai import OpenAI\n",
    "import gradio as gr"
   ]
  },
  {
   "cell_type": "code",
   "execution_count": 3,
   "id": "231605aa-fccb-447e-89cf-8b187444536a",
   "metadata": {},
   "outputs": [
    {
     "name": "stdout",
     "output_type": "stream",
     "text": [
      "OpenAI API Key exists and begins sk-proj-\n",
      "Anthropic API Key exists and begins sk-ant-\n",
      "Google API Key exists and begins AIzaSyBM\n",
      "Ollama API Key exists and begins olla\n"
     ]
    }
   ],
   "source": [
    "# Load environment variables in a file called .env\n",
    "# Print the key prefixes to help with any debugging\n",
    "\n",
    "load_dotenv()\n",
    "openai_api_key = os.getenv('OPENAI_API_KEY')\n",
    "anthropic_api_key = os.getenv('ANTHROPIC_API_KEY')\n",
    "google_api_key = os.getenv('GOOGLE_API_KEY')\n",
    "ollama_api_key =  os.getenv('OLLAMA_API_KEY')\n",
    "\n",
    "if openai_api_key:\n",
    "    print(f\"OpenAI API Key exists and begins {openai_api_key[:8]}\")\n",
    "else:\n",
    "    print(\"OpenAI API Key not set\")\n",
    "    \n",
    "if anthropic_api_key:\n",
    "    print(f\"Anthropic API Key exists and begins {anthropic_api_key[:7]}\")\n",
    "else:\n",
    "    print(\"Anthropic API Key not set\")\n",
    "\n",
    "if google_api_key:\n",
    "    print(f\"Google API Key exists and begins {google_api_key[:8]}\")\n",
    "else:\n",
    "    print(\"Google API Key not set\")\n",
    "\n",
    "if ollama_api_key:\n",
    "    print(f\"Ollama API Key exists and begins {ollama_api_key[:4]}\")"
   ]
  },
  {
   "cell_type": "code",
   "execution_count": 7,
   "id": "6541d58e-2297-4de1-b1f7-77da1b98b8bb",
   "metadata": {},
   "outputs": [],
   "source": [
    "# Initialize\n",
    "\n",
    "openai = OpenAI()\n",
    "MODEL = 'gpt-4o-mini'\n",
    "MODEL_OLLAMA = 'llama3.2'\n",
    "\n",
    "ollama=ollama_via_openai = OpenAI(base_url='http://192.168.0.207:11434/v1', api_key=ollama_api_key)"
   ]
  },
  {
   "cell_type": "code",
   "execution_count": 5,
   "id": "e16839b5-c03b-4d9d-add6-87a0f6f37575",
   "metadata": {},
   "outputs": [],
   "source": [
    "system_message = \"You are a helpful assistant\""
   ]
  },
  {
   "cell_type": "markdown",
   "id": "98e97227-f162-4d1a-a0b2-345ff248cbe7",
   "metadata": {},
   "source": [
    "# Please read this! A change from the video:\n",
    "\n",
    "In the video, I explain how we now need to write a function called:\n",
    "\n",
    "`chat(message, history)`\n",
    "\n",
    "Which expects to receive `history` in a particular format, which we need to map to the OpenAI format before we call OpenAI:\n",
    "\n",
    "```\n",
    "[\n",
    "    {\"role\": \"system\", \"content\": \"system message here\"},\n",
    "    {\"role\": \"user\", \"content\": \"first user prompt here\"},\n",
    "    {\"role\": \"assistant\", \"content\": \"the assistant's response\"},\n",
    "    {\"role\": \"user\", \"content\": \"the new user prompt\"},\n",
    "]\n",
    "```\n",
    "\n",
    "But Gradio has been upgraded! Now it will pass in `history` in the exact OpenAI format, perfect for us to send straight to OpenAI.\n",
    "\n",
    "So our work just got easier!\n",
    "\n",
    "We will write a function `chat(message, history)` where:  \n",
    "**message** is the prompt to use  \n",
    "**history** is the past conversation, in OpenAI format  \n",
    "\n",
    "We will combine the system message, history and latest message, then call OpenAI."
   ]
  },
  {
   "cell_type": "code",
   "execution_count": 17,
   "id": "1eacc8a4-4b48-4358-9e06-ce0020041bc1",
   "metadata": {},
   "outputs": [],
   "source": [
    "# Simpler than in my video - we can easily create this function that calls OpenAI\n",
    "# It's now just 1 line of code to prepare the input to OpenAI!\n",
    "\n",
    "def chat(message, history):\n",
    "    messages = [{\"role\": \"system\", \"content\": system_message}] + history + [{\"role\": \"user\", \"content\": message}]\n",
    "\n",
    "    print(\"History is:\")\n",
    "    print(history)\n",
    "    print(\"And messages is:\")\n",
    "    print(messages)\n",
    "\n",
    "    #stream = openai.chat.completions.create(model=MODEL, messages=messages, stream=True)\n",
    "    stream = ollama_via_openai.chat.completions.create(model=MODEL_OLLAMA, messages=messages, stream=True)\n",
    "    response = \"\"\n",
    "    for chunk in stream:\n",
    "        response += chunk.choices[0].delta.content or ''\n",
    "        yield response"
   ]
  },
  {
   "cell_type": "markdown",
   "id": "1334422a-808f-4147-9c4c-57d63d9780d0",
   "metadata": {},
   "source": [
    "## And then enter Gradio's magic!"
   ]
  },
  {
   "cell_type": "code",
   "execution_count": 18,
   "id": "0866ca56-100a-44ab-8bd0-1568feaf6bf2",
   "metadata": {},
   "outputs": [
    {
     "name": "stdout",
     "output_type": "stream",
     "text": [
      "* Running on local URL:  http://127.0.0.1:7912\n",
      "\n",
      "To create a public link, set `share=True` in `launch()`.\n"
     ]
    },
    {
     "data": {
      "text/html": [
       "<div><iframe src=\"http://127.0.0.1:7912/\" width=\"100%\" height=\"500\" allow=\"autoplay; camera; microphone; clipboard-read; clipboard-write;\" frameborder=\"0\" allowfullscreen></iframe></div>"
      ],
      "text/plain": [
       "<IPython.core.display.HTML object>"
      ]
     },
     "metadata": {},
     "output_type": "display_data"
    },
    {
     "data": {
      "text/plain": []
     },
     "execution_count": 18,
     "metadata": {},
     "output_type": "execute_result"
    },
    {
     "name": "stdout",
     "output_type": "stream",
     "text": [
      "History is:\n",
      "[]\n",
      "And messages is:\n",
      "[{'role': 'system', 'content': 'You are a helpful assistant'}, {'role': 'user', 'content': 'hello'}]\n",
      "History is:\n",
      "[{'role': 'user', 'metadata': {'title': None}, 'content': 'hello', 'options': None}, {'role': 'assistant', 'metadata': {'title': None}, 'content': \"Hello! It's nice to meet you. Is there something I can help you with, or would you like to chat?\", 'options': None}]\n",
      "And messages is:\n",
      "[{'role': 'system', 'content': 'You are a helpful assistant'}, {'role': 'user', 'metadata': {'title': None}, 'content': 'hello', 'options': None}, {'role': 'assistant', 'metadata': {'title': None}, 'content': \"Hello! It's nice to meet you. Is there something I can help you with, or would you like to chat?\", 'options': None}, {'role': 'user', 'content': 'please tell me about the best things to do  when visiting Massoorie, India'}]\n",
      "History is:\n",
      "[{'role': 'user', 'metadata': {'title': None}, 'content': 'hello', 'options': None}, {'role': 'assistant', 'metadata': {'title': None}, 'content': \"Hello! It's nice to meet you. Is there something I can help you with, or would you like to chat?\", 'options': None}, {'role': 'user', 'metadata': {'title': None}, 'content': 'please tell me about the best things to do  when visiting Massoorie, India', 'options': None}, {'role': 'assistant', 'metadata': {'title': None}, 'content': \"Massoorie is a charming hill station in the Himalayas, located in the state of Uttarakhand, India. Here are some of the best things to do when visiting Massoorie:\\n\\n1. **Trekking**: Massoorie offers several trekking trails, including the famous Chaukhala Trek and the Kalimpong Trek, which offer breathtaking views of the Himalayas.\\n2. **Visit the Tea Plantations**: Massoorie is known for its tea plantations, with many estates offering guided tours and tea tastings.\\n3. **Explore the Botanical Garden**: The massoorie botanical garden is a unique attraction in itself, featuring over 1,000 species of plants and trees.\\n4. **Visit the Ghangria Valley**: This scenic valley offers stunning views of the surrounding mountains and is perfect for hiking and trekking.\\n5. **Take a Pony Ride to St. Patrick's Church**: Visit this historic church, perched on a hilltop, which offers panoramic views of Massoorie.\\n6. **Try the Local Cuisine**: Massoorie cuisine is known for its unique blend of Himalayan and Indian flavors, try some local specialties like dal bhat, momos, and thukpa (noodle soup).\\n7. **Shop at the Local Market**: The market in Massoorie offers a range of handmade crafts, souvenirs, and local handicrafts.\\n8. **Visit the Shri Lakshminath Mahadev Temple**: This ancient temple is dedicated to Lord Vishnu and features stunning architecture and beautiful views of the surrounding mountains.\\n9. **Go White Water Rafting or Tubing**: For adventure-seekers, Massoorie offers a thrilling white water rafting or tubing experience on the Srim Melli River.\\n10. **Take in the Sunset**: Massoorie is one of the best places to watch the sunset in the Himalayas, enjoy the stunning views and peaceful atmosphere.\\n\\nAdditional tips:\\n\\n* Best time to visit: March to June (spring) or September to November (fall)\\n* Weather: Can be cool in mornings and evenings, pack warm clothing\\n* Accommodation: Choose from budget-friendly guesthouses to luxury resorts in Massoorie\", 'options': None}]\n",
      "And messages is:\n",
      "[{'role': 'system', 'content': 'You are a helpful assistant'}, {'role': 'user', 'metadata': {'title': None}, 'content': 'hello', 'options': None}, {'role': 'assistant', 'metadata': {'title': None}, 'content': \"Hello! It's nice to meet you. Is there something I can help you with, or would you like to chat?\", 'options': None}, {'role': 'user', 'metadata': {'title': None}, 'content': 'please tell me about the best things to do  when visiting Massoorie, India', 'options': None}, {'role': 'assistant', 'metadata': {'title': None}, 'content': \"Massoorie is a charming hill station in the Himalayas, located in the state of Uttarakhand, India. Here are some of the best things to do when visiting Massoorie:\\n\\n1. **Trekking**: Massoorie offers several trekking trails, including the famous Chaukhala Trek and the Kalimpong Trek, which offer breathtaking views of the Himalayas.\\n2. **Visit the Tea Plantations**: Massoorie is known for its tea plantations, with many estates offering guided tours and tea tastings.\\n3. **Explore the Botanical Garden**: The massoorie botanical garden is a unique attraction in itself, featuring over 1,000 species of plants and trees.\\n4. **Visit the Ghangria Valley**: This scenic valley offers stunning views of the surrounding mountains and is perfect for hiking and trekking.\\n5. **Take a Pony Ride to St. Patrick's Church**: Visit this historic church, perched on a hilltop, which offers panoramic views of Massoorie.\\n6. **Try the Local Cuisine**: Massoorie cuisine is known for its unique blend of Himalayan and Indian flavors, try some local specialties like dal bhat, momos, and thukpa (noodle soup).\\n7. **Shop at the Local Market**: The market in Massoorie offers a range of handmade crafts, souvenirs, and local handicrafts.\\n8. **Visit the Shri Lakshminath Mahadev Temple**: This ancient temple is dedicated to Lord Vishnu and features stunning architecture and beautiful views of the surrounding mountains.\\n9. **Go White Water Rafting or Tubing**: For adventure-seekers, Massoorie offers a thrilling white water rafting or tubing experience on the Srim Melli River.\\n10. **Take in the Sunset**: Massoorie is one of the best places to watch the sunset in the Himalayas, enjoy the stunning views and peaceful atmosphere.\\n\\nAdditional tips:\\n\\n* Best time to visit: March to June (spring) or September to November (fall)\\n* Weather: Can be cool in mornings and evenings, pack warm clothing\\n* Accommodation: Choose from budget-friendly guesthouses to luxury resorts in Massoorie\", 'options': None}, {'role': 'user', 'content': 'great can you plan a 3 day itinerary around these '}]\n",
      "History is:\n",
      "[{'role': 'user', 'metadata': {'title': None}, 'content': 'hello', 'options': None}, {'role': 'assistant', 'metadata': {'title': None}, 'content': \"Hello! It's nice to meet you. Is there something I can help you with, or would you like to chat?\", 'options': None}, {'role': 'user', 'metadata': {'title': None}, 'content': 'please tell me about the best things to do  when visiting Massoorie, India', 'options': None}, {'role': 'assistant', 'metadata': {'title': None}, 'content': \"Massoorie is a charming hill station in the Himalayas, located in the state of Uttarakhand, India. Here are some of the best things to do when visiting Massoorie:\\n\\n1. **Trekking**: Massoorie offers several trekking trails, including the famous Chaukhala Trek and the Kalimpong Trek, which offer breathtaking views of the Himalayas.\\n2. **Visit the Tea Plantations**: Massoorie is known for its tea plantations, with many estates offering guided tours and tea tastings.\\n3. **Explore the Botanical Garden**: The massoorie botanical garden is a unique attraction in itself, featuring over 1,000 species of plants and trees.\\n4. **Visit the Ghangria Valley**: This scenic valley offers stunning views of the surrounding mountains and is perfect for hiking and trekking.\\n5. **Take a Pony Ride to St. Patrick's Church**: Visit this historic church, perched on a hilltop, which offers panoramic views of Massoorie.\\n6. **Try the Local Cuisine**: Massoorie cuisine is known for its unique blend of Himalayan and Indian flavors, try some local specialties like dal bhat, momos, and thukpa (noodle soup).\\n7. **Shop at the Local Market**: The market in Massoorie offers a range of handmade crafts, souvenirs, and local handicrafts.\\n8. **Visit the Shri Lakshminath Mahadev Temple**: This ancient temple is dedicated to Lord Vishnu and features stunning architecture and beautiful views of the surrounding mountains.\\n9. **Go White Water Rafting or Tubing**: For adventure-seekers, Massoorie offers a thrilling white water rafting or tubing experience on the Srim Melli River.\\n10. **Take in the Sunset**: Massoorie is one of the best places to watch the sunset in the Himalayas, enjoy the stunning views and peaceful atmosphere.\\n\\nAdditional tips:\\n\\n* Best time to visit: March to June (spring) or September to November (fall)\\n* Weather: Can be cool in mornings and evenings, pack warm clothing\\n* Accommodation: Choose from budget-friendly guesthouses to luxury resorts in Massoorie\", 'options': None}, {'role': 'user', 'metadata': {'title': None}, 'content': 'great can you plan a 3 day itinerary around these ', 'options': None}, {'role': 'assistant', 'metadata': {'title': None}, 'content': \"Here's a suggested 3-day itinerary for Massoorie, India:\\n\\n**Day 1: Arrival and Exploration**\\n\\n* Morning: Arrive at Massoorie by bus or taxi from Darjeeling ( approx. 10-12 hours journey)\\n* Morning coffee at the local market\\n* Visit the Shri Lakshminath Mahadev Temple to get familiar with the town's culture and history\\n* Take a stroll around the Botanical Garden, which is in full bloom during spring season\\n* Lunch at a local eatery, try some traditional Darjeeling cuisine like momos or thukpa\\n* Afternoon: Visit the Massoorie Tea Estate for a guided tour and tea tasting experience. Learn about the history of tea cultivation in the Himalayas\\n* Evening: Watch the sunset from the famous Stain Lake viewpoint and take a walk around the town\\n\\n**Day 2: Trekking and Scenic Views**\\n\\n* Morning: Take a pony ride or hike up to the summit of Daldos Dhura, which offers panoramic views of Massoorie and its surrounding hills\\n* Hike down to the Ghangria Valley, which is nestled at an altitude of over 6,000 feet. Enjoy breathtaking views of the Himalayas and take part in the picturesque landscape\\n* Lunch at a scenic spot or at a local eatery in the valley\\n* Afternoon: Trek up to Chaukhala Top (7-8 hours trek), which offers stunning sunrises and spectacular views of the East Sikkim Range. Watch for migratory birds and diverse flora.\\n* Evening: Relax by taking part of walking or stroll among the tree-lined streets.\\n\\n**Day 3: Adventure Activities**\\n\\n* Morning: Go White Water Rafting or Tubing on the Srim Melli River ( approx. ₹800 - ₹1200 per person). Get soaked in nature as it drifts through scenic rapids and calm stretches\\n* Lunch at a riverside eatery, enjoy local fish delicacies and the beautiful surroundings.\\n* Afternoon: Visit an option to visit the trekking route from Jorhat. This is around 13 km long (3-4 hours), that provides excellent views of Kurseong Himalayas\\n* Late Evening - head back home or stay at town.\\n\\nAdditional tips:\\n\\n* Accommodation: choose a hotel or guesthouse near town area\\n* Transportation: Bus or car service from Darjeeling town towards Massoorie \\n* Food and drink: Carry cash to the local tea estates with some money.\\n* Safety precautions: Trek with an experienced guide group if available\", 'options': None}]\n",
      "And messages is:\n",
      "[{'role': 'system', 'content': 'You are a helpful assistant'}, {'role': 'user', 'metadata': {'title': None}, 'content': 'hello', 'options': None}, {'role': 'assistant', 'metadata': {'title': None}, 'content': \"Hello! It's nice to meet you. Is there something I can help you with, or would you like to chat?\", 'options': None}, {'role': 'user', 'metadata': {'title': None}, 'content': 'please tell me about the best things to do  when visiting Massoorie, India', 'options': None}, {'role': 'assistant', 'metadata': {'title': None}, 'content': \"Massoorie is a charming hill station in the Himalayas, located in the state of Uttarakhand, India. Here are some of the best things to do when visiting Massoorie:\\n\\n1. **Trekking**: Massoorie offers several trekking trails, including the famous Chaukhala Trek and the Kalimpong Trek, which offer breathtaking views of the Himalayas.\\n2. **Visit the Tea Plantations**: Massoorie is known for its tea plantations, with many estates offering guided tours and tea tastings.\\n3. **Explore the Botanical Garden**: The massoorie botanical garden is a unique attraction in itself, featuring over 1,000 species of plants and trees.\\n4. **Visit the Ghangria Valley**: This scenic valley offers stunning views of the surrounding mountains and is perfect for hiking and trekking.\\n5. **Take a Pony Ride to St. Patrick's Church**: Visit this historic church, perched on a hilltop, which offers panoramic views of Massoorie.\\n6. **Try the Local Cuisine**: Massoorie cuisine is known for its unique blend of Himalayan and Indian flavors, try some local specialties like dal bhat, momos, and thukpa (noodle soup).\\n7. **Shop at the Local Market**: The market in Massoorie offers a range of handmade crafts, souvenirs, and local handicrafts.\\n8. **Visit the Shri Lakshminath Mahadev Temple**: This ancient temple is dedicated to Lord Vishnu and features stunning architecture and beautiful views of the surrounding mountains.\\n9. **Go White Water Rafting or Tubing**: For adventure-seekers, Massoorie offers a thrilling white water rafting or tubing experience on the Srim Melli River.\\n10. **Take in the Sunset**: Massoorie is one of the best places to watch the sunset in the Himalayas, enjoy the stunning views and peaceful atmosphere.\\n\\nAdditional tips:\\n\\n* Best time to visit: March to June (spring) or September to November (fall)\\n* Weather: Can be cool in mornings and evenings, pack warm clothing\\n* Accommodation: Choose from budget-friendly guesthouses to luxury resorts in Massoorie\", 'options': None}, {'role': 'user', 'metadata': {'title': None}, 'content': 'great can you plan a 3 day itinerary around these ', 'options': None}, {'role': 'assistant', 'metadata': {'title': None}, 'content': \"Here's a suggested 3-day itinerary for Massoorie, India:\\n\\n**Day 1: Arrival and Exploration**\\n\\n* Morning: Arrive at Massoorie by bus or taxi from Darjeeling ( approx. 10-12 hours journey)\\n* Morning coffee at the local market\\n* Visit the Shri Lakshminath Mahadev Temple to get familiar with the town's culture and history\\n* Take a stroll around the Botanical Garden, which is in full bloom during spring season\\n* Lunch at a local eatery, try some traditional Darjeeling cuisine like momos or thukpa\\n* Afternoon: Visit the Massoorie Tea Estate for a guided tour and tea tasting experience. Learn about the history of tea cultivation in the Himalayas\\n* Evening: Watch the sunset from the famous Stain Lake viewpoint and take a walk around the town\\n\\n**Day 2: Trekking and Scenic Views**\\n\\n* Morning: Take a pony ride or hike up to the summit of Daldos Dhura, which offers panoramic views of Massoorie and its surrounding hills\\n* Hike down to the Ghangria Valley, which is nestled at an altitude of over 6,000 feet. Enjoy breathtaking views of the Himalayas and take part in the picturesque landscape\\n* Lunch at a scenic spot or at a local eatery in the valley\\n* Afternoon: Trek up to Chaukhala Top (7-8 hours trek), which offers stunning sunrises and spectacular views of the East Sikkim Range. Watch for migratory birds and diverse flora.\\n* Evening: Relax by taking part of walking or stroll among the tree-lined streets.\\n\\n**Day 3: Adventure Activities**\\n\\n* Morning: Go White Water Rafting or Tubing on the Srim Melli River ( approx. ₹800 - ₹1200 per person). Get soaked in nature as it drifts through scenic rapids and calm stretches\\n* Lunch at a riverside eatery, enjoy local fish delicacies and the beautiful surroundings.\\n* Afternoon: Visit an option to visit the trekking route from Jorhat. This is around 13 km long (3-4 hours), that provides excellent views of Kurseong Himalayas\\n* Late Evening - head back home or stay at town.\\n\\nAdditional tips:\\n\\n* Accommodation: choose a hotel or guesthouse near town area\\n* Transportation: Bus or car service from Darjeeling town towards Massoorie \\n* Food and drink: Carry cash to the local tea estates with some money.\\n* Safety precautions: Trek with an experienced guide group if available\", 'options': None}, {'role': 'user', 'content': 'could you please output this in hindi?'}]\n"
     ]
    }
   ],
   "source": [
    "gr.ChatInterface(fn=chat, type=\"messages\").launch(inbrowser=True)"
   ]
  },
  {
   "cell_type": "code",
   "execution_count": 19,
   "id": "1f91b414-8bab-472d-b9c9-3fa51259bdfe",
   "metadata": {},
   "outputs": [],
   "source": [
    "system_message = \"You are a helpful assistant in a clothes store. You should try to gently encourage \\\n",
    "the customer to try items that are on sale. Hats are 60% off, and most other items are 50% off. \\\n",
    "For example, if the customer says 'I'm looking to buy a hat', \\\n",
    "you could reply something like, 'Wonderful - we have lots of hats - including several that are part of our sales evemt.'\\\n",
    "Encourage the customer to buy hats if they are unsure what to get.\""
   ]
  },
  {
   "cell_type": "code",
   "execution_count": 21,
   "id": "4e5be3ec-c26c-42bc-ac16-c39d369883f6",
   "metadata": {},
   "outputs": [],
   "source": [
    "def chat(message, history):\n",
    "    messages = [{\"role\": \"system\", \"content\": system_message}] + history + [{\"role\": \"user\", \"content\": message}]\n",
    "\n",
    "#    stream = openai.chat.completions.create(model=MODEL, messages=messages, stream=True)\n",
    "    stream = ollama_via_openai.chat.completions.create(model=MODEL_OLLAMA, messages=messages, stream=True)\n",
    "\n",
    "    response = \"\"\n",
    "    for chunk in stream:\n",
    "        response += chunk.choices[0].delta.content or ''\n",
    "        yield response"
   ]
  },
  {
   "cell_type": "code",
   "execution_count": null,
   "id": "413e9e4e-7836-43ac-a0c3-e1ab5ed6b136",
   "metadata": {},
   "outputs": [],
   "source": [
    "gr.ChatInterface(fn=chat, type=\"messages\").launch()"
   ]
  },
  {
   "cell_type": "code",
   "execution_count": null,
   "id": "d75f0ffa-55c8-4152-b451-945021676837",
   "metadata": {},
   "outputs": [],
   "source": [
    "system_message += \"\\nIf the customer asks for shoes, you should respond that shoes are not on sale today, \\\n",
    "but remind the customer to look at hats!\""
   ]
  },
  {
   "cell_type": "code",
   "execution_count": null,
   "id": "c602a8dd-2df7-4eb7-b539-4e01865a6351",
   "metadata": {},
   "outputs": [],
   "source": [
    "gr.ChatInterface(fn=chat, type=\"messages\").launch()"
   ]
  },
  {
   "cell_type": "code",
   "execution_count": null,
   "id": "0a987a66-1061-46d6-a83a-a30859dc88bf",
   "metadata": {},
   "outputs": [],
   "source": [
    "# Fixed a bug in this function brilliantly identified by student Gabor M.!\n",
    "# I've also improved the structure of this function\n",
    "\n",
    "def chat(message, history):\n",
    "\n",
    "    relevant_system_message = system_message\n",
    "    if 'belt' in message:\n",
    "        relevant_system_message += \" The store does not sell belts; if you are asked for belts, be sure to point out other items on sale.\"\n",
    "    \n",
    "    messages = [{\"role\": \"system\", \"content\": relevant_system_message}] + history + [{\"role\": \"user\", \"content\": message}]\n",
    "\n",
    "    stream = openai.chat.completions.create(model=MODEL, messages=messages, stream=True)\n",
    "\n",
    "    response = \"\"\n",
    "    for chunk in stream:\n",
    "        response += chunk.choices[0].delta.content or ''\n",
    "        yield response"
   ]
  },
  {
   "cell_type": "code",
   "execution_count": null,
   "id": "20570de2-eaad-42cc-a92c-c779d71b48b6",
   "metadata": {},
   "outputs": [],
   "source": [
    "gr.ChatInterface(fn=chat, type=\"messages\").launch()"
   ]
  },
  {
   "cell_type": "markdown",
   "id": "82a57ee0-b945-48a7-a024-01b56a5d4b3e",
   "metadata": {},
   "source": [
    "<table style=\"margin: 0; text-align: left;\">\n",
    "    <tr>\n",
    "        <td style=\"width: 150px; height: 150px; vertical-align: middle;\">\n",
    "            <img src=\"../business.jpg\" width=\"150\" height=\"150\" style=\"display: block;\" />\n",
    "        </td>\n",
    "        <td>\n",
    "            <h2 style=\"color:#181;\">Business Applications</h2>\n",
    "            <span style=\"color:#181;\">Conversational Assistants are of course a hugely common use case for Gen AI, and the latest frontier models are remarkably good at nuanced conversation. And Gradio makes it easy to have a user interface. Another crucial skill we covered is how to use prompting to provide context, information and examples.\n",
    "<br/><br/>\n",
    "Consider how you could apply an AI Assistant to your business, and make yourself a prototype. Use the system prompt to give context on your business, and set the tone for the LLM.</span>\n",
    "        </td>\n",
    "    </tr>\n",
    "</table>"
   ]
  },
  {
   "cell_type": "code",
   "execution_count": null,
   "id": "6dfb9e21-df67-4c2b-b952-5e7e7961b03d",
   "metadata": {},
   "outputs": [],
   "source": []
  }
 ],
 "metadata": {
  "kernelspec": {
   "display_name": "llms",
   "language": "python",
   "name": "python3"
  },
  "language_info": {
   "codemirror_mode": {
    "name": "ipython",
    "version": 3
   },
   "file_extension": ".py",
   "mimetype": "text/x-python",
   "name": "python",
   "nbconvert_exporter": "python",
   "pygments_lexer": "ipython3",
   "version": "3.11.11"
  }
 },
 "nbformat": 4,
 "nbformat_minor": 5
}
