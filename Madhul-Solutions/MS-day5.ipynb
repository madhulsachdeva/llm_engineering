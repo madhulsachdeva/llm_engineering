{
 "cells": [
  {
   "cell_type": "markdown",
   "id": "a98030af-fcd1-4d63-a36e-38ba053498fa",
   "metadata": {},
   "source": [
    "# A full business solution\n",
    "\n",
    "## Now we will take our project from Day 1 to the next level\n",
    "\n",
    "### BUSINESS CHALLENGE:\n",
    "\n",
    "Create a product that builds a Brochure for a company to be used for prospective clients, investors and potential recruits.\n",
    "\n",
    "We will be provided a company name and their primary website.\n",
    "\n",
    "See the end of this notebook for examples of real-world business applications.\n",
    "\n",
    "And remember: I'm always available if you have problems or ideas! Please do reach out."
   ]
  },
  {
   "cell_type": "code",
   "execution_count": 169,
   "id": "d5b08506-dc8b-4443-9201-5f1848161363",
   "metadata": {},
   "outputs": [],
   "source": [
    "# imports\n",
    "# If these fail, please check you're running from an 'activated' environment with (llms) in the command prompt\n",
    "\n",
    "import os\n",
    "import requests # type: ignore\n",
    "import json\n",
    "from typing import List\n",
    "from dotenv import load_dotenv # type: ignore\n",
    "from bs4 import BeautifulSoup\n",
    "from IPython.display import Markdown, display, update_display\n",
    "from openai import OpenAI"
   ]
  },
  {
   "cell_type": "code",
   "execution_count": 170,
   "id": "fc5d8880-f2ee-4c06-af16-ecbc0262af61",
   "metadata": {},
   "outputs": [
    {
     "name": "stdout",
     "output_type": "stream",
     "text": [
      "API key looks good so far\n"
     ]
    }
   ],
   "source": [
    "# Initialize and constants\n",
    "\n",
    "load_dotenv()\n",
    "api_key = os.getenv('OPENAI_API_KEY')\n",
    "\n",
    "if api_key and api_key.startswith('sk-proj-') and len(api_key)>10:\n",
    "    print(\"API key looks good so far\")\n",
    "else:\n",
    "    print(\"There might be a problem with your API key? Please visit the troubleshooting notebook!\")\n",
    "    \n",
    "MODEL = 'gpt-4o-mini'\n",
    "openai = OpenAI()"
   ]
  },
  {
   "cell_type": "code",
   "execution_count": 171,
   "id": "106dd65e-90af-4ca8-86b6-23a41840645b",
   "metadata": {},
   "outputs": [],
   "source": [
    "# A class to represent a Webpage\n",
    "\n",
    "# Some websites need you to use proper headers when fetching them:\n",
    "headers = {\n",
    " \"User-Agent\": \"Mozilla/5.0 (Windows NT 10.0; Win64; x64) AppleWebKit/537.36 (KHTML, like Gecko) Chrome/117.0.0.0 Safari/537.36\"\n",
    "}\n",
    "\n",
    "class Website:\n",
    "    \"\"\"\n",
    "    A utility class to represent a Website that we have scraped, now with links\n",
    "    \"\"\"\n",
    "\n",
    "    def __init__(self, url):\n",
    "        self.url = url\n",
    "        response = requests.get(url, headers=headers)\n",
    "        self.body = response.content\n",
    "        soup = BeautifulSoup(self.body, 'html.parser')\n",
    "        self.title = soup.title.string if soup.title else \"No title found\"\n",
    "        if soup.body:\n",
    "            for irrelevant in soup.body([\"script\", \"style\", \"img\", \"input\"]):\n",
    "                irrelevant.decompose()\n",
    "            self.text = soup.body.get_text(separator=\"\\n\", strip=True)\n",
    "        else:\n",
    "            self.text = \"\"\n",
    "        links = [link.get('href') for link in soup.find_all('a')]\n",
    "        self.links = [link for link in links if link]\n",
    "\n",
    "    def get_contents(self):\n",
    "        return f\"Webpage Title:\\n{self.title}\\nWebpage Contents:\\n{self.text}\\n\\n\""
   ]
  },
  {
   "cell_type": "code",
   "execution_count": null,
   "id": "e30d8128-933b-44cc-81c8-ab4c9d86589a",
   "metadata": {},
   "outputs": [],
   "source": [
    "ed = Website(\"https://aquasec.com\")\n",
    "ed.links"
   ]
  },
  {
   "cell_type": "markdown",
   "id": "1771af9c-717a-4fca-bbbe-8a95893312c3",
   "metadata": {},
   "source": [
    "## First step: Have GPT-4o-mini figure out which links are relevant\n",
    "\n",
    "### Use a call to gpt-4o-mini to read the links on a webpage, and respond in structured JSON.  \n",
    "It should decide which links are relevant, and replace relative links such as \"/about\" with \"https://company.com/about\".  \n",
    "We will use \"one shot prompting\" in which we provide an example of how it should respond in the prompt.\n",
    "\n",
    "This is an excellent use case for an LLM, because it requires nuanced understanding. Imagine trying to code this without LLMs by parsing and analyzing the webpage - it would be very hard!\n",
    "\n",
    "Sidenote: there is a more advanced technique called \"Structured Outputs\" in which we require the model to respond according to a spec. We cover this technique in Week 8 during our autonomous Agentic AI project."
   ]
  },
  {
   "cell_type": "code",
   "execution_count": 172,
   "id": "6957b079-0d96-45f7-a26a-3487510e9b35",
   "metadata": {},
   "outputs": [],
   "source": [
    "link_system_prompt = \"You are provided with a list of links found on a webpage. \\\n",
    "You are able to decide which of the links would be most relevant to include in a brochure about the company, \\\n",
    "such as links to an About page, or a Company page, or Careers/Jobs pages.\\n\"\n",
    "link_system_prompt += \"You should respond in JSON as in this example:\"\n",
    "link_system_prompt += \"\"\"\n",
    "{\n",
    "    \"links\": [\n",
    "        {\"type\": \"about page\", \"url\": \"https://full.url/goes/here/about\"},\n",
    "        {\"type\": \"careers page\": \"url\": \"https://another.full.url/careers\"}\n",
    "    ]\n",
    "}\n",
    "\"\"\""
   ]
  },
  {
   "cell_type": "code",
   "execution_count": null,
   "id": "b97e4068-97ed-4120-beae-c42105e4d59a",
   "metadata": {},
   "outputs": [],
   "source": [
    "print(link_system_prompt)"
   ]
  },
  {
   "cell_type": "code",
   "execution_count": 173,
   "id": "8e1f601b-2eaf-499d-b6b8-c99050c9d6b3",
   "metadata": {},
   "outputs": [],
   "source": [
    "def get_links_user_prompt(website):\n",
    "    user_prompt = f\"Here is the list of links on the website of {website.url} - \"\n",
    "    user_prompt += \"please decide which of these are relevant web links for a brochure about the company, respond with the full https URL in JSON format. \\\n",
    "Do not include Terms of Service, Privacy, email links.\\n\"\n",
    "    user_prompt += \"Links (some might be relative links):\\n\"\n",
    "    user_prompt += \"\\n\".join(website.links)\n",
    "    return user_prompt"
   ]
  },
  {
   "cell_type": "code",
   "execution_count": 174,
   "id": "f2b6e7f2",
   "metadata": {},
   "outputs": [],
   "source": [
    "def enhance_brochure(user_prompt):\n",
    "    user_prompt += '''\\n\\nPlease enhance the brochure with a brief description of the company, its products, and services. You Must Include sections {Mission},{Vision},{Values} and {Company_History} as seen in the Example below:\\n\n",
    "    \n",
    "    Mission: To provide the best products and services to our customers\n",
    "        ....\n",
    "    Vision: To be the best company in the world\n",
    "        ....\n",
    "    Values: Integrity, Honesty, and Customer Satisfaction\n",
    "        ....\n",
    "    '''\n",
    "    return user_prompt"
   ]
  },
  {
   "cell_type": "code",
   "execution_count": null,
   "id": "dbb2b5ab",
   "metadata": {},
   "outputs": [],
   "source": [
    "aqua = Website(\"https://aquasec.com\")\n",
    "print(enhance_brochure(get_links_user_prompt(aqua)))"
   ]
  },
  {
   "cell_type": "code",
   "execution_count": null,
   "id": "6bcbfa78-6395-4685-b92c-22d592050fd7",
   "metadata": {},
   "outputs": [],
   "source": [
    "print(get_links_user_prompt(aqua))"
   ]
  },
  {
   "cell_type": "code",
   "execution_count": 175,
   "id": "a29aca19-ca13-471c-a4b4-5abbfa813f69",
   "metadata": {},
   "outputs": [],
   "source": [
    "def get_links(url):\n",
    "    website = Website(url)\n",
    "    response = openai.chat.completions.create(\n",
    "        model=MODEL,\n",
    "        messages=[\n",
    "            {\"role\": \"system\", \"content\": link_system_prompt},\n",
    "            {\"role\": \"user\", \"content\": get_links_user_prompt(website)}\n",
    "      ],\n",
    "        response_format={\"type\": \"json_object\"}\n",
    "    )\n",
    "    result = response.choices[0].message.content\n",
    "    return json.loads(result)"
   ]
  },
  {
   "cell_type": "code",
   "execution_count": null,
   "id": "74a827a0-2782-4ae5-b210-4a242a8b4cc2",
   "metadata": {},
   "outputs": [],
   "source": [
    "# Anthropic has made their site harder to scrape, so I'm using HuggingFace..\n",
    "\n",
    "huggingface = Website(\"https://huggingface.co\")\n",
    "huggingface.links"
   ]
  },
  {
   "cell_type": "code",
   "execution_count": null,
   "id": "d3d583e2-dcc4-40cc-9b28-1e8dbf402924",
   "metadata": {},
   "outputs": [],
   "source": [
    "get_links(\"https://huggingface.co\")"
   ]
  },
  {
   "cell_type": "markdown",
   "id": "0d74128e-dfb6-47ec-9549-288b621c838c",
   "metadata": {},
   "source": [
    "## Second step: make the brochure!\n",
    "\n",
    "Assemble all the details into another prompt to GPT4-o"
   ]
  },
  {
   "cell_type": "code",
   "execution_count": 176,
   "id": "85a5b6e2-e7ef-44a9-bc7f-59ede71037b5",
   "metadata": {},
   "outputs": [],
   "source": [
    "def get_all_details(url):\n",
    "    result = \"Landing page:\\n\"\n",
    "    result += Website(url).get_contents()\n",
    "    links = get_links(url)\n",
    "    print(\"Found links:\", links)\n",
    "    for link in links[\"links\"]:\n",
    "        result += f\"\\n\\n{link['type']}\\n\\n\"\n",
    "        result += Website(link[\"url\"]).get_contents()\n",
    "    return result"
   ]
  },
  {
   "cell_type": "code",
   "execution_count": null,
   "id": "5099bd14-076d-4745-baf3-dac08d8e5ab2",
   "metadata": {},
   "outputs": [],
   "source": [
    "print(get_all_details(\"https://huggingface.co\"))"
   ]
  },
  {
   "cell_type": "code",
   "execution_count": 222,
   "id": "9b863a55-f86c-4e3f-8a79-94e24c1a8cf2",
   "metadata": {},
   "outputs": [],
   "source": [
    "system_prompt = \"You are an assistant that analyzes the contents of several relevant pages from a company website \\\n",
    "and creates a short brochure about the company for prospective customers, investors and recruits. Respond in markdown.\\\n",
    "Include details of company culture, customers and careers/jobs if you have the information.\"\n",
    "\n",
    "# Or uncomment the lines below for a more humorous brochure - this demonstrates how easy it is to incorporate 'tone':\n",
    "\n",
    "system_prompt = \"You are an assistant that analyzes the contents of several relevant pages from a company website \\\n",
    "and creates a short humorous, entertaining, jokey brochure about the company for prospective customers, investors and recruits. Respond in markdown.\\\n",
    "Include details of company culture, customers and careers/jobs if you have the information.\"\n"
   ]
  },
  {
   "cell_type": "code",
   "execution_count": 178,
   "id": "2750aa75",
   "metadata": {},
   "outputs": [],
   "source": [
    "def get_system_prompt():\n",
    "    return system_prompt"
   ]
  },
  {
   "cell_type": "code",
   "execution_count": 220,
   "id": "6ab83d92-d36b-4ce0-8bcc-5bb4c2f8ff23",
   "metadata": {},
   "outputs": [],
   "source": [
    "def get_brochure_user_prompt(company_name, url):\n",
    "    user_prompt = f\"You are looking at a company called: {company_name}\\n\"\n",
    "    user_prompt += f\"Here are the contents of its landing page and other relevant pages; use this information to build a short brochure of the company in markdown.\\n\"\n",
    "    user_prompt += enhance_brochure(user_prompt)\n",
    "    user_prompt += get_all_details(url)\n",
    "    user_prompt = user_prompt[:5_000] # Truncate if more than 5,000 characters\n",
    "    return user_prompt\n",
    "    #print(user_prompt)"
   ]
  },
  {
   "cell_type": "code",
   "execution_count": null,
   "id": "73a1d65e",
   "metadata": {},
   "outputs": [],
   "source": [
    "get_brochure_user_prompt(\"Aqua Security\", \"https://aquasec.com\")"
   ]
  },
  {
   "cell_type": "code",
   "execution_count": null,
   "id": "cd909e0b-1312-4ce2-a553-821e795d7572",
   "metadata": {},
   "outputs": [],
   "source": [
    "get_brochure_user_prompt(\"HuggingFace\", \"https://huggingface.co\")"
   ]
  },
  {
   "cell_type": "code",
   "execution_count": 158,
   "id": "e44de579-4a1a-4e6a-a510-20ea3e4b8d46",
   "metadata": {},
   "outputs": [],
   "source": [
    "def create_brochure(company_name, url, stream=False, lan='english'):\n",
    "    if lan != 'english':\n",
    "        system_prompt = f\"Translate the brochure to {lan}.\"\n",
    "    else:\n",
    "        pass\n",
    "        \n",
    "    if stream:\n",
    "        response = openai.ChatCompletion.create(\n",
    "            model=MODEL,\n",
    "            messages=[\n",
    "                {\"role\": \"system\", \"content\": system_prompt},\n",
    "                {\"role\": \"user\", \"content\": get_brochure_user_prompt(company_name, url)}\n",
    "              ],\n",
    "            stream=True\n",
    "        )\n",
    "    else:\n",
    "        response = openai.chat.completions.create(\n",
    "        model=MODEL,\n",
    "        messages=[\n",
    "            {\"role\": \"system\", \"content\": system_prompt},\n",
    "            {\"role\": \"user\", \"content\": get_brochure_user_prompt(company_name, url)}\n",
    "          ],\n",
    "    )\n",
    "    result = response.choices[0].message.content\n",
    "    return result"
   ]
  },
  {
   "cell_type": "code",
   "execution_count": 86,
   "id": "3846e011",
   "metadata": {},
   "outputs": [],
   "source": [
    "def translate_to_hindi(text):\n",
    "    response = openai.chat.completions.create(\n",
    "        model=MODEL,\n",
    "        messages=[\n",
    "            {\"role\": \"system\", \"content\": \"You are an assistant that translates a brochure about a company into Hindi. Respond in markdown.\"},\n",
    "            {\"role\": \"user\", \"content\": text}\n",
    "          ],\n",
    "    )\n",
    "    return response.choices[0].message.content"
   ]
  },
  {
   "cell_type": "code",
   "execution_count": 180,
   "id": "5e8cfdac",
   "metadata": {},
   "outputs": [],
   "source": [
    "def display_brochure(result):\n",
    "    display(Markdown(result))"
   ]
  },
  {
   "cell_type": "code",
   "execution_count": 110,
   "id": "bba9cec3",
   "metadata": {},
   "outputs": [],
   "source": [
    "def create_english_brochure(company_name, url, stream):\n",
    "    #company_name = input(\"Enter Company Name: \")\n",
    "    #url = input(\"Enter Company URL: \")\n",
    "    brochure = create_brochure(company_name, url, stream)\n",
    "    return brochure"
   ]
  },
  {
   "cell_type": "code",
   "execution_count": 102,
   "id": "e2dc5db1",
   "metadata": {},
   "outputs": [],
   "source": [
    "def create_hindi_brochure(company_name, url):\n",
    "    #company_name = input(\"Enter Company Name: \")\n",
    "    #url = input(\"Enter Company URL: \")\n",
    "    brochure = translate_to_hindi(create_brochure(company_name, url))\n",
    "    return brochure"
   ]
  },
  {
   "cell_type": "code",
   "execution_count": null,
   "id": "64194423",
   "metadata": {},
   "outputs": [],
   "source": [
    "display_brochure(create_english_brochure())"
   ]
  },
  {
   "cell_type": "code",
   "execution_count": null,
   "id": "b9daad3c",
   "metadata": {},
   "outputs": [],
   "source": [
    "display_brochure(create_hindi_brochure())"
   ]
  },
  {
   "cell_type": "code",
   "execution_count": null,
   "id": "a28dd2a1",
   "metadata": {},
   "outputs": [],
   "source": [
    "create_brochure(\"Anthropic\", \"https://anthropic.com\")"
   ]
  },
  {
   "cell_type": "code",
   "execution_count": null,
   "id": "e093444a-9407-42ae-924a-145730591a39",
   "metadata": {},
   "outputs": [],
   "source": [
    "create_brochure(\"HuggingFace\", \"https://huggingface.com\")"
   ]
  },
  {
   "cell_type": "markdown",
   "id": "61eaaab7-0b47-4b29-82d4-75d474ad8d18",
   "metadata": {},
   "source": [
    "## Finally - a minor improvement\n",
    "\n",
    "With a small adjustment, we can change this so that the results stream back from OpenAI,\n",
    "with the familiar typewriter animation"
   ]
  },
  {
   "cell_type": "code",
   "execution_count": 223,
   "id": "f133feea",
   "metadata": {},
   "outputs": [],
   "source": [
    "def generate_brochure(company_name, url, stream=True, lan='english'):\n",
    "    system_prompt = get_system_prompt()\n",
    "\n",
    "    if lan.lower() != 'english':\n",
    "        system_prompt+= f\" Output must be in markdown and language must be: {lan.upper()}.\"\n",
    "\n",
    "    if stream:\n",
    "        response = openai.chat.completions.create(\n",
    "            model=MODEL,\n",
    "            messages=[\n",
    "                {\"role\": \"system\", \"content\": system_prompt},\n",
    "                {\"role\": \"user\", \"content\": get_brochure_user_prompt(company_name, url)}\n",
    "            ],\n",
    "            stream=True\n",
    "        )\n",
    "        response_text = \"\"\n",
    "        display_handle = display(Markdown(\"\"), display_id=True)\n",
    "        for chunk in response:\n",
    "            response_text += chunk.choices[0].delta.content or ''\n",
    "            response_text = response_text.replace(\"```\", \"\").replace(\"markdown\", \"\")\n",
    "            update_display(Markdown(response_text), display_id=display_handle.display_id)\n",
    "    else:\n",
    "        response = openai.chat.completions.create(\n",
    "            model=MODEL,\n",
    "            messages=[\n",
    "                {\"role\": \"system\", \"content\": system_prompt},\n",
    "                {\"role\": \"user\", \"content\": get_brochure_user_prompt(company_name, url)}\n",
    "            ]\n",
    "        )\n",
    "        result = response.choices[0].message.content\n",
    "        display(Markdown(result))"
   ]
  },
  {
   "cell_type": "code",
   "execution_count": 123,
   "id": "c6c55724",
   "metadata": {},
   "outputs": [],
   "source": [
    "def generate_brochure_hindi_brochure(company_name, url):\n",
    "    stream = openai.chat.completions.create(\n",
    "        model=MODEL,\n",
    "        messages=[\n",
    "            {\"role\": \"system\", \"content\": system_prompt},\n",
    "            {\"role\": \"user\", \"content\": translate_to_hindi(get_brochure_user_prompt(company_name, url))}\n",
    "          ],\n",
    "        stream=True\n",
    "    )\n",
    "    \n",
    "    response = \"\"\n",
    "    display_handle = display(Markdown(\"\"), display_id=True)\n",
    "    for chunk in stream:\n",
    "        response += chunk.choices[0].delta.content or ''\n",
    "        response = response.replace(\"```\",\"\").replace(\"markdown\", \"\")\n",
    "        update_display(Markdown(response), display_id=display_handle.display_id)"
   ]
  },
  {
   "cell_type": "code",
   "execution_count": 224,
   "id": "8d1c3f55",
   "metadata": {},
   "outputs": [
    {
     "name": "stdout",
     "output_type": "stream",
     "text": [
      "Found links: {'links': [{'type': 'about page', 'url': 'https://westpac.com.au/about-westpac'}, {'type': 'careers page', 'url': 'https://westpac.com.au/about-westpac/careers'}, {'type': 'company page', 'url': 'https://westpac.com.au/about-westpac/westpac-group'}, {'type': 'investor center', 'url': 'https://westpac.com.au/about-westpac/investor-centre'}, {'type': 'sustainability page', 'url': 'https://westpac.com.au/about-westpac/sustainability'}, {'type': 'indigenous page', 'url': 'https://westpac.com.au/about-westpac/indigenous'}]}\n"
     ]
    },
    {
     "data": {
      "text/markdown": [
       "\n",
       "# Welcome to Westpac! 🏦\n",
       "\n",
       "Where a skip, hop, and a click leads you to a whole new world of banking fun! Whether you're a personal saver, a business mogul, or a corporate tycoon, Westpac has everything you need – well, maybe not a pet dinosaur, but we have a great range of financial services!\n",
       "\n",
       "---\n",
       "\n",
       "## Our Mission 🎯\n",
       "To provide the best products and services to our customers, making banking so easy you might just want to start a dance party!\n",
       "\n",
       "## Our Vision 🌍\n",
       "To be the best company in the world, or at least in the top three if we’re being realistic. Right behind pizza delivery and superhero vendors.\n",
       "\n",
       "## Our Values 🏅\n",
       "- **Integrity**: We mean what we say. No funny business here, except for the kind that involves fancy coffee machines in the office!\n",
       "- **Customer Satisfaction**: If our customers aren’t happy, we’re like a puppy without a bone – very, very sad.\n",
       "- **Innovation**: We’re not just banking; we’re trying to engineer the future of finance—without the flux capacitor (but we're open to ideas!).\n",
       "\n",
       "---\n",
       "\n",
       "## Company History 📅\n",
       "Founded in the 1817s, Westpac is older than a good bottle of wine and almost as wise! Originally a bank for the people, we’ve evolved and now offer everything from home loans and credit cards to margin lending for those who like to live on the edge (financially, of course).\n",
       "\n",
       "---\n",
       "\n",
       "## Our Products and Services 📦\n",
       "Whether you need a bank account, a loan, or just a friendly chat about your financial future, we've got you covered! Here's just a snippet of what we offer:\n",
       "\n",
       "- **Personal Banking**: Think bank accounts, home loans, credit cards, and maybe a secret stash for rainy days.\n",
       "- **Business Banking**: We're all about helping your enterprise grow – no, we don’t mean a budding investment in spray tans for cats... unless that’s your thing!\n",
       "- **Corporate Banking**: Tailored for big fish in the finance pond – think corporate finance, trade & supply chain finance, and maybe a golden parachute or two.\n",
       "\n",
       "---\n",
       "\n",
       "## Company Culture 🏢\n",
       "At Westpac, we believe in a workplace that’s as open as our bank accounts! We embrace diversity, inclusivity, and plenty of chances to get together for team-building karaoke nights (we’ll bring the pitch pipes). \n",
       "\n",
       "We also continually promote sustainability and community support, because saving the planet while crunching numbers is the best kind of multitasking! 🌱\n",
       "\n",
       "---\n",
       "\n",
       "## Join Our Team! 🙌\n",
       "Looking for a career with growth potential and a dash of fun? Whether you’re a number-crunching wizard or a customer service superstar, we’re excited to have you aboard! Check out our careers page—suit up, and let’s make banking fun together!\n",
       "\n",
       "---\n",
       "\n",
       "**Westpac: Banking with a Smile (and maybe a little bit of a giggle)!** \n",
       "\n",
       "For more information or to start your financial adventure with us, [visit our website](#)!\n",
       "\n"
      ],
      "text/plain": [
       "<IPython.core.display.Markdown object>"
      ]
     },
     "metadata": {},
     "output_type": "display_data"
    }
   ],
   "source": [
    "generate_brochure(\"Westpac\", \"https://westpac.com.au/\", True, 'English')"
   ]
  },
  {
   "cell_type": "code",
   "execution_count": null,
   "id": "5261c1fd",
   "metadata": {},
   "outputs": [],
   "source": [
    "stream_hindi_brochure(\"Anz Bank\", \"https://anz.com.au/\")"
   ]
  },
  {
   "cell_type": "code",
   "execution_count": null,
   "id": "11cd7aa8",
   "metadata": {},
   "outputs": [],
   "source": [
    "stream_brochure(\"Woodleigh Waters Dental Surgery\", \"https://woodleighwatersdentalsurgery.com.au/\")"
   ]
  },
  {
   "cell_type": "code",
   "execution_count": null,
   "id": "56bf0ae3-ee9d-4a72-9cd6-edcac67ceb6d",
   "metadata": {},
   "outputs": [],
   "source": [
    "stream_brochure(\"HuggingFace\", \"https://huggingface.co\")"
   ]
  },
  {
   "cell_type": "code",
   "execution_count": null,
   "id": "d8de52e4",
   "metadata": {},
   "outputs": [],
   "source": []
  },
  {
   "cell_type": "code",
   "execution_count": null,
   "id": "fdb3f8d8-a3eb-41c8-b1aa-9f60686a653b",
   "metadata": {},
   "outputs": [],
   "source": [
    "# Try changing the system prompt to the humorous version when you make the Brochure for Hugging Face:\n",
    "\n",
    "stream_brochure(\"HuggingFace\", \"https://huggingface.co\")"
   ]
  },
  {
   "cell_type": "markdown",
   "id": "a27bf9e0-665f-4645-b66b-9725e2a959b5",
   "metadata": {},
   "source": [
    "<table style=\"margin: 0; text-align: left;\">\n",
    "    <tr>\n",
    "        <td style=\"width: 150px; height: 150px; vertical-align: middle;\">\n",
    "            <img src=\"../business.jpg\" width=\"150\" height=\"150\" style=\"display: block;\" />\n",
    "        </td>\n",
    "        <td>\n",
    "            <h2 style=\"color:#181;\">Business applications</h2>\n",
    "            <span style=\"color:#181;\">In this exercise we extended the Day 1 code to make multiple LLM calls, and generate a document.\n",
    "\n",
    "This is perhaps the first example of Agentic AI design patterns, as we combined multiple calls to LLMs. This will feature more in Week 2, and then we will return to Agentic AI in a big way in Week 8 when we build a fully autonomous Agent solution.\n",
    "\n",
    "Generating content in this way is one of the very most common Use Cases. As with summarization, this can be applied to any business vertical. Write marketing content, generate a product tutorial from a spec, create personalized email content, and so much more. Explore how you can apply content generation to your business, and try making yourself a proof-of-concept prototype.</span>\n",
    "        </td>\n",
    "    </tr>\n",
    "</table>"
   ]
  },
  {
   "cell_type": "markdown",
   "id": "14b2454b-8ef8-4b5c-b928-053a15e0d553",
   "metadata": {},
   "source": [
    "<table style=\"margin: 0; text-align: left;\">\n",
    "    <tr>\n",
    "        <td style=\"width: 150px; height: 150px; vertical-align: middle;\">\n",
    "            <img src=\"../important.jpg\" width=\"150\" height=\"150\" style=\"display: block;\" />\n",
    "        </td>\n",
    "        <td>\n",
    "            <h2 style=\"color:#900;\">Before you move to Week 2 (which is tons of fun)</h2>\n",
    "            <span style=\"color:#900;\">Please see the week1 EXERCISE notebook for your challenge for the end of week 1. This will give you some essential practice working with Frontier APIs, and prepare you well for Week 2.</span>\n",
    "        </td>\n",
    "    </tr>\n",
    "</table>"
   ]
  },
  {
   "cell_type": "markdown",
   "id": "17b64f0f-7d33-4493-985a-033d06e8db08",
   "metadata": {},
   "source": [
    "<table style=\"margin: 0; text-align: left;\">\n",
    "    <tr>\n",
    "        <td style=\"width: 150px; height: 150px; vertical-align: middle;\">\n",
    "            <img src=\"../resources.jpg\" width=\"150\" height=\"150\" style=\"display: block;\" />\n",
    "        </td>\n",
    "        <td>\n",
    "            <h2 style=\"color:#f71;\">A reminder on 2 useful resources</h2>\n",
    "            <span style=\"color:#f71;\">1. The resources for the course are available <a href=\"https://edwarddonner.com/2024/11/13/llm-engineering-resources/\">here.</a><br/>\n",
    "            2. I'm on LinkedIn <a href=\"https://www.linkedin.com/in/eddonner/\">here</a> and I love connecting with people taking the course!\n",
    "            </span>\n",
    "        </td>\n",
    "    </tr>\n",
    "</table>"
   ]
  },
  {
   "cell_type": "code",
   "execution_count": null,
   "id": "3de35771-455f-40b5-ba44-7c0a6b7c427a",
   "metadata": {},
   "outputs": [],
   "source": []
  }
 ],
 "metadata": {
  "kernelspec": {
   "display_name": "llms",
   "language": "python",
   "name": "python3"
  },
  "language_info": {
   "codemirror_mode": {
    "name": "ipython",
    "version": 3
   },
   "file_extension": ".py",
   "mimetype": "text/x-python",
   "name": "python",
   "nbconvert_exporter": "python",
   "pygments_lexer": "ipython3",
   "version": "3.11.11"
  }
 },
 "nbformat": 4,
 "nbformat_minor": 5
}
