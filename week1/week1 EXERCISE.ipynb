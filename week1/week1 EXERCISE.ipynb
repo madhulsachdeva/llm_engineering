{
 "cells": [
  {
   "cell_type": "markdown",
   "id": "fe12c203-e6a6-452c-a655-afb8a03a4ff5",
   "metadata": {},
   "source": [
    "# End of week 1 exercise\n",
    "\n",
    "To demonstrate your familiarity with OpenAI API, and also Ollama, build a tool that takes a technical question,  \n",
    "and responds with an explanation. This is a tool that you will be able to use yourself during the course!"
   ]
  },
  {
   "cell_type": "code",
   "execution_count": 1,
   "id": "c1070317-3ed9-4659-abe3-828943230e03",
   "metadata": {},
   "outputs": [],
   "source": [
    "# imports\n",
    "import ollama\n",
    "import os\n",
    "import json\n",
    "from openai import OpenAI\n",
    "from dotenv import load_dotenv\n",
    "from IPython.display import Markdown, display, update_display"
   ]
  },
  {
   "cell_type": "code",
   "execution_count": 2,
   "id": "4a456906-915a-4bfd-bb9d-57e505c5093f",
   "metadata": {},
   "outputs": [],
   "source": [
    "# constants\n",
    "OLLAMA_API = \"http://192.168.0.207:11434/v1\"\n",
    "HEADERS = {\"Content-Type\": \"application/json\"}\n",
    "OLLAMA_API_KEY = 'ollama'\n",
    "#Define LLM models\n",
    "MODEL_OPEN_API = 'gpt-4o-mini'\n",
    "MODEL_OLLAMA = 'llama3.2'\n",
    "openai = OpenAI()\n",
    "question=''\n"
   ]
  },
  {
   "cell_type": "code",
   "execution_count": 3,
   "id": "a8d7923c-5f28-4c30-8556-342d7c8497c1",
   "metadata": {},
   "outputs": [
    {
     "name": "stdout",
     "output_type": "stream",
     "text": [
      "API key looks good so far\n"
     ]
    }
   ],
   "source": [
    "# set up OpenAI environment\n",
    "\n",
    "load_dotenv()\n",
    "api_key = os.getenv('OPENAI_API_KEY')\n",
    "\n",
    "if api_key and api_key.startswith('sk-proj-') and len(api_key)>10:\n",
    "    print(\"API key looks good so far\")\n",
    "else:\n",
    "    print(\"There might be a problem with your API key? Please visit the troubleshooting notebook!\")\n",
    "    "
   ]
  },
  {
   "cell_type": "code",
   "execution_count": 4,
   "id": "3cd9fe82",
   "metadata": {},
   "outputs": [],
   "source": [
    "system_prompt = \"You are a personal AI assistant. The following is a an example conversation with an AI assistant. The assistant is helpful, creative, clever, and very friendly.\\n\\nHuman: Hello, who are you?\\nAI: I am an AI assistant. How can I help you today?\\nHuman: ... Respond in Markdown\""
   ]
  },
  {
   "cell_type": "code",
   "execution_count": 5,
   "id": "3f0d0137-52b0-47a8-81a8-11a90a010798",
   "metadata": {},
   "outputs": [],
   "source": [
    "# Here is the question; type over this to ask something new\n",
    "\n",
    "question = \"\\n \"+ input(\"Please enter your Question :\")\n",
    "#question = \"\"\"\n",
    "#Please explain what this code does and why:\n",
    "#yield from {book.get(\"author\") for book in books if book.get(\"author\")}\n",
    "#\"\"\""
   ]
  },
  {
   "cell_type": "code",
   "execution_count": 6,
   "id": "13f95067",
   "metadata": {},
   "outputs": [],
   "source": [
    "def ask_question():\n",
    "    global question\n",
    "    question = input(\"Please enter your Question :\")"
   ]
  },
  {
   "cell_type": "code",
   "execution_count": 7,
   "id": "95f744fb",
   "metadata": {},
   "outputs": [],
   "source": [
    "# Create a messages list using the same format that we used for OpenAI\n",
    "def get_messages():\n",
    "    return [\n",
    "        {\"role\": \"system\", \"content\": system_prompt},\n",
    "        {\"role\": \"user\", \"content\": question}\n",
    "    ]"
   ]
  },
  {
   "cell_type": "code",
   "execution_count": 8,
   "id": "6ccf39c5",
   "metadata": {},
   "outputs": [],
   "source": [
    "def display_response(text):\n",
    "    display(Markdown(text))\n",
    "    #update_display(Markdown(text), display_id='response', display_id_2='response')   "
   ]
  },
  {
   "cell_type": "code",
   "execution_count": 9,
   "id": "0bcc31bc",
   "metadata": {},
   "outputs": [],
   "source": [
    "def stream_response(response):\n",
    "    response_text = \"\"\n",
    "    display_handle = display(Markdown(\"\"), display_id=True)\n",
    "    for chunk in response:\n",
    "        response_text += chunk.choices[0].delta.content or ''\n",
    "        response_text = response_text.replace(\"```\", \"\").replace(\"markdown\", \"\")\n",
    "        update_display(Markdown(response_text), display_id=display_handle.display_id)"
   ]
  },
  {
   "cell_type": "markdown",
   "id": "22a6ef4f",
   "metadata": {},
   "source": [
    "<blockquote>\n",
    "# RESPONSE FROM OLLAMA MODEL\n",
    "##Create Ollama_API object \n",
    "ollama_via_openai = OpenAI(base_url=OLLAMA_API, api_key=OLLAMA_API_KEY)\n",
    "\n",
    "#response = ollama.chat(model=MODEL_LLAMA, messages=messages)\n",
    "response = ollama_via_openai.chat.completions.create(model=MODEL_OLLAMA, messages=get_messages(),stream=True)\n",
    "\n",
    "display_response(f\"# **Response from OLLAMA model: {MODEL_OLLAMA.capitalize()}** \\n\")\n",
    "\n",
    "##### Uncomment the line below to stream content\n",
    "stream_response(response)\n",
    "\n",
    "##### Uncomment the line below to stream content\n",
    "#display_response(response.choices[0].message.content)\n",
    "display(Markdown(\"#### **--- End of response from Ollama ---**\"))  \n",
    "</blockquote>"
   ]
  },
  {
   "cell_type": "markdown",
   "id": "ea226ecf",
   "metadata": {},
   "source": [
    "<blockquote>\n",
    "# RESPONSE FROM OPEN API MODEL\n",
    "##Assing OpenAI API Key\n",
    "openai.api_key = os.getenv('OPENAI_API_KEY')\n",
    "\n",
    "response = openai.chat.completions.create(model=MODEL_OPEN_API, messages=get_messages(),stream=True)\n",
    "\n",
    "display_response(f\"# **Response from OpenAPI\\'s model: {MODEL_OPEN_API.capitalize()}** \\n\")\n",
    "\n",
    "##### Uncomment the line below to stream content\n",
    "stream_response(response)\n",
    "\n",
    "##### Uncomment the line below to stream content\n",
    "#display_response(response.choices[0].message.content)\n",
    "\n",
    "display(Markdown(\"#### **--- End of response from OpenAPI ---**\")) \n",
    "</blockquote>"
   ]
  },
  {
   "cell_type": "code",
   "execution_count": null,
   "id": "84fece9f",
   "metadata": {},
   "outputs": [],
   "source": [
    "## Ask Question and assign to question variable\n",
    "ask_question()\n",
    "\n",
    "# RESPONSE FROM OLLAMA MODEL\n",
    "##Create Ollama_API object \n",
    "ollama_via_openai = OpenAI(base_url=OLLAMA_API, api_key=OLLAMA_API_KEY)\n",
    "\n",
    "#response = ollama.chat(model=MODEL_LLAMA, messages=messages)\n",
    "response = ollama_via_openai.chat.completions.create(model=MODEL_OLLAMA, messages=get_messages(),stream=True)\n",
    "\n",
    "display_response(f\"# **Response from OLLAMA model: {MODEL_OLLAMA.capitalize()}** \\n\")\n",
    "\n",
    "### Uncomment the line below to stream content\n",
    "stream_response(response)\n",
    "\n",
    "### Uncomment the line below to stream content\n",
    "#display_response(response.choices[0].message.content)\n",
    "display(Markdown(\"#### **--- End of response from Ollama ---**\"))  \n",
    "\n",
    "print(\"###########################################################################\")\n",
    "\n",
    "#RESPONSE FROM OPEN API MODEL\n",
    "##Assing OpenAI API Key\n",
    "openai.api_key = os.getenv('OPENAI_API_KEY')\n",
    "\n",
    "response = openai.chat.completions.create(model=MODEL_OPEN_API, messages=get_messages(),stream=True)\n",
    "\n",
    "display_response(f\"# **Response from OpenAPI\\'s model: {MODEL_OPEN_API.capitalize()}** \\n\")\n",
    "\n",
    "### Uncomment the line below to stream content\n",
    "stream_response(response)\n",
    "\n",
    "### Uncomment the line below to stream content\n",
    "#display_response(response.choices[0].message.content)\n",
    "\n",
    "display(Markdown(\"#### **--- End of response from OpenAPI ---**\")) "
   ]
  }
 ],
 "metadata": {
  "kernelspec": {
   "display_name": "llms",
   "language": "python",
   "name": "python3"
  },
  "language_info": {
   "codemirror_mode": {
    "name": "ipython",
    "version": 3
   },
   "file_extension": ".py",
   "mimetype": "text/x-python",
   "name": "python",
   "nbconvert_exporter": "python",
   "pygments_lexer": "ipython3",
   "version": "3.11.11"
  }
 },
 "nbformat": 4,
 "nbformat_minor": 5
}
