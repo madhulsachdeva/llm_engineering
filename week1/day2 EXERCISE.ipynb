{
 "cells": [
  {
   "cell_type": "markdown",
   "id": "d15d8294-3328-4e07-ad16-8a03e9bbfdb9",
   "metadata": {},
   "source": [
    "# Welcome to your first assignment!\n",
    "\n",
    "Instructions are below. Please give this a try, and look in the solutions folder if you get stuck (or feel free to ask me!)"
   ]
  },
  {
   "cell_type": "markdown",
   "id": "ada885d9-4d42-4d9b-97f0-74fbbbfe93a9",
   "metadata": {},
   "source": [
    "<table style=\"margin: 0; text-align: left;\">\n",
    "    <tr>\n",
    "        <td style=\"width: 150px; height: 150px; vertical-align: middle;\">\n",
    "            <img src=\"../resources.jpg\" width=\"150\" height=\"150\" style=\"display: block;\" />\n",
    "        </td>\n",
    "        <td>\n",
    "            <h2 style=\"color:#f71;\">Just before we get to the assignment --</h2>\n",
    "            <span style=\"color:#f71;\">I thought I'd take a second to point you at this page of useful resources for the course. This includes links to all the slides.<br/>\n",
    "            <a href=\"https://edwarddonner.com/2024/11/13/llm-engineering-resources/\">https://edwarddonner.com/2024/11/13/llm-engineering-resources/</a><br/>\n",
    "            Please keep this bookmarked, and I'll continue to add more useful links there over time.\n",
    "            </span>\n",
    "        </td>\n",
    "    </tr>\n",
    "</table>"
   ]
  },
  {
   "cell_type": "markdown",
   "id": "6e9fa1fc-eac5-4d1d-9be4-541b3f2b3458",
   "metadata": {},
   "source": [
    "# HOMEWORK EXERCISE ASSIGNMENT\n",
    "\n",
    "Upgrade the day 1 project to summarize a webpage to use an Open Source model running locally via Ollama rather than OpenAI\n",
    "\n",
    "You'll be able to use this technique for all subsequent projects if you'd prefer not to use paid APIs.\n",
    "\n",
    "**Benefits:**\n",
    "1. No API charges - open-source\n",
    "2. Data doesn't leave your box\n",
    "\n",
    "**Disadvantages:**\n",
    "1. Significantly less power than Frontier Model\n",
    "\n",
    "## Recap on installation of Ollama\n",
    "\n",
    "Simply visit [ollama.com](https://ollama.com) and install!\n",
    "\n",
    "Once complete, the ollama server should already be running locally.  \n",
    "If you visit:  \n",
    "[http://localhost:11434/](http://localhost:11434/)\n",
    "\n",
    "You should see the message `Ollama is running`.  \n",
    "\n",
    "If not, bring up a new Terminal (Mac) or Powershell (Windows) and enter `ollama serve`  \n",
    "And in another Terminal (Mac) or Powershell (Windows), enter `ollama pull llama3.2`  \n",
    "Then try [http://localhost:11434/](http://localhost:11434/) again.\n",
    "\n",
    "If Ollama is slow on your machine, try using `llama3.2:1b` as an alternative. Run `ollama pull llama3.2:1b` from a Terminal or Powershell, and change the code below from `MODEL = \"llama3.2\"` to `MODEL = \"llama3.2:1b\"`"
   ]
  },
  {
   "cell_type": "code",
   "execution_count": 3,
   "id": "4e2a9393-7767-488e-a8bf-27c12dca35bd",
   "metadata": {},
   "outputs": [],
   "source": [
    "# imports\n",
    "\n",
    "import requests\n",
    "from bs4 import BeautifulSoup\n",
    "from IPython.display import Markdown, display"
   ]
  },
  {
   "cell_type": "code",
   "execution_count": 5,
   "id": "29ddd15d-a3c5-4f4e-a678-873f56162724",
   "metadata": {},
   "outputs": [],
   "source": [
    "# Constants\n",
    "\n",
    "#OLLAMA_API = \"http://localhost:11434/api/chat\"\n",
    "OLLAMA_API = \"http://192.168.0.207:11434/v1\"\n",
    "HEADERS = {\"Content-Type\": \"application/json\"}\n",
    "MODEL = \"llama3.2\""
   ]
  },
  {
   "cell_type": "code",
   "execution_count": 6,
   "id": "dac0a679-599c-441f-9bf2-ddc73d35b940",
   "metadata": {},
   "outputs": [],
   "source": [
    "# Create a messages list using the same format that we used for OpenAI\n",
    "\n",
    "messages = [\n",
    "    {\"role\": \"user\", \"content\": \"Describe some of the business applications of Generative AI\"}\n",
    "]"
   ]
  },
  {
   "cell_type": "code",
   "execution_count": 7,
   "id": "7bb9c624-14f0-4945-a719-8ddb64f66f47",
   "metadata": {},
   "outputs": [],
   "source": [
    "payload = {\n",
    "        \"model\": MODEL,\n",
    "        \"messages\": messages,\n",
    "        \"stream\": False\n",
    "    }"
   ]
  },
  {
   "cell_type": "code",
   "execution_count": null,
   "id": "42b9f644-522d-4e05-a691-56e7658c0ea9",
   "metadata": {},
   "outputs": [],
   "source": [
    "response = requests.post(OLLAMA_API, json=payload, headers=HEADERS)\n",
    "print(response.json()['message']['content'])"
   ]
  },
  {
   "cell_type": "markdown",
   "id": "6a021f13-d6a1-4b96-8e18-4eae49d876fe",
   "metadata": {},
   "source": [
    "# Introducing the ollama package\n",
    "\n",
    "And now we'll do the same thing, but using the elegant ollama python package instead of a direct HTTP call.\n",
    "\n",
    "Under the hood, it's making the same call as above to the ollama server running at localhost:11434"
   ]
  },
  {
   "cell_type": "code",
   "execution_count": 10,
   "id": "7745b9c4-57dc-4867-9180-61fa5db55eb8",
   "metadata": {},
   "outputs": [
    {
     "name": "stdout",
     "output_type": "stream",
     "text": [
      "Generative AI has numerous business applications across various industries, including:\n",
      "\n",
      "1. **Content Creation**: Generative AI can be used to create personalized content such as product descriptions, social media posts, and even entire articles.\n",
      "2. **Marketing Automation**: Generative AI can automate tasks like lead generation, email marketing campaigns, and ad creative development.\n",
      "3. **Customer Service Chatbots**: Generative AI-powered chatbots can provide 24/7 customer support, helping businesses respond to inquiries and resolve issues more efficiently.\n",
      "4. **Product Design**: Generative AI can be used to design new products, such as product mockups, prototypes, and even entire product lines.\n",
      "5. **Data Analysis**: Generative AI can help analyze large datasets, identify patterns, and provide insights that can inform business decisions.\n",
      "6. **Predictive Maintenance**: Generative AI can be used to predict equipment failures, reducing downtime and increasing overall efficiency.\n",
      "7. **Financial Modeling**: Generative AI can help create detailed financial models, forecast revenue streams, and optimize investment strategies.\n",
      "8. **Human Resources**: Generative AI can be used to automate tasks like employee onboarding, performance evaluations, and even recruitment processes.\n",
      "9. **Supply Chain Optimization**: Generative AI can help analyze complex supply chain data, identify bottlenecks, and optimize logistics.\n",
      "10. **Creative Collaboration**: Generative AI can facilitate collaboration between humans and machines, helping teams generate new ideas, concepts, and solutions.\n",
      "\n",
      "Some specific examples of business applications include:\n",
      "\n",
      "* **Netflix's Content Recommendation Engine**: Uses generative AI to recommend personalized content to users based on their viewing history.\n",
      "* **Amazon's Product Recommendations**: Utilizes generative AI to suggest products to customers based on their search history and browsing behavior.\n",
      "* **Google's Ad Creative Development**: Employs generative AI to create high-performing ad creative assets, such as images and videos.\n",
      "* **SAP's AI-Powered Customer Service Chatbots**: Uses generative AI to power chatbots that provide 24/7 customer support.\n",
      "\n",
      "These are just a few examples of the many business applications of Generative AI. As the technology continues to evolve, we can expect to see even more innovative uses across various industries.\n"
     ]
    }
   ],
   "source": [
    "import ollama\n",
    "\n",
    "response = ollama.chat(model=MODEL, messages=messages)\n",
    "print(response['message']['content'])"
   ]
  },
  {
   "cell_type": "markdown",
   "id": "a4704e10-f5fb-4c15-a935-f046c06fb13d",
   "metadata": {},
   "source": [
    "## Alternative approach - using OpenAI python library to connect to Ollama"
   ]
  },
  {
   "cell_type": "code",
   "execution_count": null,
   "id": "23057e00-b6fc-4678-93a9-6b31cb704bff",
   "metadata": {},
   "outputs": [],
   "source": [
    "# There's actually an alternative approach that some people might prefer\n",
    "# You can use the OpenAI client python library to call Ollama:\n",
    "\n",
    "from openai import OpenAI\n",
    "ollama_via_openai = OpenAI(base_url='http://localhost:11434/v1', api_key='ollama')\n",
    "\n",
    "response = ollama_via_openai.chat.completions.create(\n",
    "    model=MODEL,\n",
    "    messages=messages\n",
    ")\n",
    "\n",
    "print(response.choices[0].message.content)"
   ]
  },
  {
   "cell_type": "markdown",
   "id": "1622d9bb-5c68-4d4e-9ca4-b492c751f898",
   "metadata": {},
   "source": [
    "# NOW the exercise for you\n",
    "\n",
    "Take the code from day1 and incorporate it here, to build a website summarizer that uses Llama 3.2 running locally instead of OpenAI; use either of the above approaches."
   ]
  },
  {
   "cell_type": "code",
   "execution_count": 1,
   "id": "402d5686-4e76-4110-b65a-b3906c35c0a4",
   "metadata": {},
   "outputs": [],
   "source": [
    "# imports\n",
    "import os\n",
    "import requests\n",
    "from bs4 import BeautifulSoup\n",
    "from IPython.display import Markdown, display\n",
    "from openai import OpenAI\n",
    "from requests.exceptions import RequestException\n",
    "# If you get an error running this cell, then please head over to the troubleshooting notebook!"
   ]
  },
  {
   "cell_type": "code",
   "execution_count": 3,
   "id": "9cfeb2c1-a2e1-47af-bd62-253b703d8130",
   "metadata": {},
   "outputs": [],
   "source": [
    "# Constants\n",
    "\n",
    "OLLAMA_API = \"http://192.168.0.207:11434/api/chat\"\n",
    "HEADERS = {\"Content-Type\": \"application/json\"}\n",
    "MODEL = \"llama3.2\"\n",
    "ollama_via_openai = OpenAI(base_url='http://192.168.0.207:11434/v1', api_key='ollama')"
   ]
  },
  {
   "cell_type": "code",
   "execution_count": 26,
   "id": "76991489-946f-492c-9f62-9f73a9e53b43",
   "metadata": {},
   "outputs": [],
   "source": [
    "# A class to represent a Webpage\n",
    "# If you're not familiar with Classes, check out the \"Intermediate Python\" notebook\n",
    "\n",
    "# Some websites need you to use proper headers when fetching them:\n",
    "\n",
    "class Website:\n",
    "    def __init__(self, url):\n",
    "        \"\"\"\n",
    "        Create this Website object from the given url using the BeautifulSoup library\n",
    "        \"\"\"\n",
    "        self.url = url\n",
    "        self.title = \"No title found\"\n",
    "        self.text = \"No content found\"\n",
    "        \n",
    "        headers = {\n",
    "            'User-Agent': 'Mozilla/5.0 (Windows NT 10.0; Win64; x64) AppleWebKit/537.36 (KHTML, like Gecko) Chrome/91.0.4472.124 Safari/537.36'\n",
    "        }\n",
    "        \n",
    "        try:\n",
    "            response = requests.get(url, headers=headers, timeout=10)\n",
    "            response.raise_for_status()  # Raises an HTTPError for bad responses\n",
    "            \n",
    "            soup = BeautifulSoup(response.content, 'html.parser')\n",
    "            self.title = soup.title.string if soup.title else \"No title found\"\n",
    "            \n",
    "            # Get text content\n",
    "            self.text = ' '.join([p.get_text() for p in soup.find_all('p')])\n",
    "            if not self.text:\n",
    "                self.text = \"No content found\"\n",
    "\n",
    "            for irrelevant in soup.body([\"script\", \"style\", \"img\", \"input\"]):\n",
    "                irrelevant.decompose()\n",
    "            self.text = soup.body.get_text(separator=\"\\n\", strip=True)\n",
    "                \n",
    "        except requests.exceptions.SSLError:\n",
    "            raise ConnectionError(f\"SSL Certificate verification failed for {url}\")\n",
    "        except requests.exceptions.ConnectionError:\n",
    "            raise ConnectionError(f\"Failed to connect to {url}. Please check if the URL is correct and accessible.\")\n",
    "        except requests.exceptions.Timeout:\n",
    "            raise ConnectionError(f\"Connection timed out while trying to access {url}\")\n",
    "        except requests.exceptions.RequestException as e:\n",
    "            raise ConnectionError(f\"An error occurred while fetching the website: {str(e)}\")\n"
   ]
  },
  {
   "cell_type": "code",
   "execution_count": 4,
   "id": "61d58b43-5ec5-4580-b963-8336aee8681e",
   "metadata": {},
   "outputs": [],
   "source": [
    "# A class to represent a Webpage\n",
    "# If you're not familiar with Classes, check out the \"Intermediate Python\" notebook\n",
    "\n",
    "# Some websites need you to use proper headers when fetching them:\n",
    "headers = {\n",
    " \"User-Agent\": \"Mozilla/5.0 (Windows NT 10.0; Win64; x64) AppleWebKit/537.36 (KHTML, like Gecko) Chrome/117.0.0.0 Safari/537.36\"\n",
    "}\n",
    "\n",
    "class Website:\n",
    "\n",
    "    def __init__(self, url):\n",
    "        \"\"\"\n",
    "        Create this Website object from the given url using the BeautifulSoup library\n",
    "        \"\"\"\n",
    "        self.url = url\n",
    "        response = requests.get(url, headers=headers)\n",
    "        soup = BeautifulSoup(response.content, 'html.parser')\n",
    "        self.title = soup.title.string if soup.title else \"No title found\"\n",
    "        for irrelevant in soup.body([\"script\", \"style\", \"img\", \"input\"]):\n",
    "            irrelevant.decompose()\n",
    "        self.text = soup.body.get_text(separator=\"\\n\", strip=True)"
   ]
  },
  {
   "cell_type": "code",
   "execution_count": 5,
   "id": "68f20224-0ede-47c4-8ed4-7d5752374232",
   "metadata": {},
   "outputs": [],
   "source": [
    "system_prompt = \"You are an assistant that analyzes the contents of a website \\\n",
    "and provides a short summary, ignoring text that might be navigation related. \\\n",
    "Respond in markdown.\""
   ]
  },
  {
   "cell_type": "code",
   "execution_count": 6,
   "id": "d5fe4e6a-24f4-483a-ae24-1e7ed1bf2a6f",
   "metadata": {},
   "outputs": [],
   "source": [
    "# A function that writes a User Prompt that asks for summaries of websites:\n",
    "\n",
    "def user_prompt_for(website):\n",
    "    user_prompt = f\"You are looking at a website titled {website.title}\"\n",
    "    user_prompt += \"\\nThe contents of this website is as follows; \\\n",
    "please provide a short summary of this website in markdown. \\\n",
    "If it includes news or announcements, then summarise these too. Ignoring text that might be navigation related. \\n --- \\n\"\n",
    "    user_prompt += website.text\n",
    "    return user_prompt"
   ]
  },
  {
   "cell_type": "code",
   "execution_count": 7,
   "id": "e9c9876a-45ff-43ef-8315-b10acfd4b872",
   "metadata": {},
   "outputs": [
    {
     "name": "stdout",
     "output_type": "stream",
     "text": [
      "You are looking at a website titled TechnicallySimple.Me – confessions of a techie!\n",
      "The contents of this website is as follows; please provide a short summary of this website in markdown. If it includes news or announcements, then summarise these too. Ignoring text that might be navigation related. \n",
      " --- \n",
      "Skip to Content\n",
      "Looking to 𝗚𝗶𝘃𝗲𝗕𝗮𝗰𝗸 by volunteering my time and skills to help individuals or businesses who can benefit from my life experiences:\n",
      "𝗟𝗲𝘁'𝘀 𝗰𝗼𝗻𝗻𝗲𝗰𝘁\n",
      "Home\n",
      "subscribe\n",
      "Give Back\n",
      "About\n",
      "Contact\n",
      "TechnicallySimple.Me\n",
      "confessions of a techie!\n",
      "TechnicallySimple.Me\n",
      "confessions of a techie!\n",
      "Home\n",
      "subscribe\n",
      "Give Back\n",
      "About\n",
      "Contact\n",
      "life's hard, tech should be Simple.\n",
      "Impacting lives through personal experiences & lessons learnt.\n",
      "Subscribe\n",
      "How to fix software supply chain integrity with CIS Benchmarks and Aqua Security\n",
      "Software (application) development lifecycle (SDLC) processes have followed the wild-west approach  where security has been an afterthought to speedy delivery and race to market, however the recent supply chain attacks have more than highlighted the criticality and the need to ensure security is part of the design in the development and delivery process.\n",
      "Aqua Security and CIS collaborate to publish industry’s first ever CIS Benchmarks framework guide for Supply Chain Security.\n",
      "Read More ..\n",
      "Share\n",
      "Get complete coverage with Rapid7 security platform\n",
      "The Rapid7 Platform difference means, you ‘the executive team’ can focus on the innovation and growth of your business without having to task your teams to become security ninjas and figure out the latest threats and vulnerabilities on their own while fighting fires.\n",
      "REMEMBER: If you are not in the security business, don’t make security your primary business!\n",
      "Read More ..\n",
      "Share\n",
      "IAM is the new security perimeter, guard it with Rapid7 insightCloudSec.\n",
      "The perimeter has shifted in the cloud where IAM policies is all that sits between the outside world and cloud resources critical to your business.\n",
      "In this article I share how organisations can use DivvyCloud’s Access Explorer to gain visibility into IAM policies, drive remediation and reporting. Enjoy!\n",
      "Read More ..\n",
      "Share\n",
      "Cloud Security Posture  and Compliance with Rapid7 insightCloudSec\n",
      "A consolidated view of multi cloud environments is no longer a ‘nice to have’ as the enemies in this cyber warfare are often invisible.\n",
      "In this article I share how organisations can use DivvyCloud to protect themselves against mis-configurations, policy violations and other threats. Enjoy!\n",
      "Read More ..\n",
      "Share\n",
      "Keeping cyber-criminals at bay with DNS filtering\n",
      "With cybercrime becoming a mainstream source of revenue for criminal organisation and individuals across the globe, cyber-attacks are a daily occurrence. It’s only a matter for time before you are compromised.\n",
      "In this article, I share how to boost your security posture against cyber attacks within minutes for free. Enjoy!\n",
      "Read More ..\n",
      "Share\n",
      "How secure is your password?\n",
      "You are just one bad password away from unwanted access to your information. Once they have access to your information, they have access to your digital identity i.e. basically, your life. Protecting yourself starts with good password hygiene.\n",
      "In this article I share a life hack that you can use to ensure your passwords cannot be cracked in your lifetime. Enjoy!\n",
      "Read More ..\n",
      "Share\n",
      "Architecting your apps to scale on demand with Docker containers\n",
      "Being able to scale business applications on-demand provides organisations greater ROI and much needed agility.\n",
      "In this article I will deep dive into how to architect your applications to scale on-demand using docker containers along with an example scenario. Hope you enjoy it.\n",
      "Read More ..\n",
      "Share\n",
      "Ransomware – Are you ready?\n",
      "Being in the industry, I could be forgiven for thinking that everyone is aware of what Ransomware is and the risks involved. With everyone working form home these days due to the COVID-19 outbreak, the risks increase exponentially. We don’t think much of letting our kids access our computer while we make a cup of …\n",
      "Read More ..\n",
      "Share\n",
      "What is your smart meter reporting about your electricity consumption?\n",
      "Data is often neglected but it is generally the only source of truth.\n",
      "In this article, I took up a little project to examine the data that my smart electricity meter is reporting back to my energy provider about my consumption behaviour.\n",
      "The end result was eye opening and beautiful at the same time. I hope you find it as valuable as I did. Enjoy!\n",
      "Read More ..\n",
      "Share\n",
      "Subscribe for Updates\n",
      "Latest posts sent to your Inbox:\n",
      "Recommendations Received:\n",
      "Nikolay Dzhilinskiy - NTT\n",
      "Senior Systems Engineer - Madhul worked with Nikolay in the same group at Telstra\n",
      "\"I have worked with Madhul for quite some time now and really value his skills and knowledge in the field of ICT Solutions architecture/design. Madhul is one of few people who keep on top of things and is always working to keep his skills updated in this rapidly changing ICT industry.\n",
      "I would like to endorse him for his in-depth knowledge of ICT Solutions/technologies and Project Management skills. Moreover his readiness to share his experience/knowledge by taking the initiative to organise cross-skill training sessions with other SMEs and members of the team is highly appreciated and valued.\"\n",
      "Alan Marshall - Fujitsu Australia\n",
      "ICT Infrastructure Professional with NV1 Security Clearance - Alan was a client of Madhul’s\n",
      "\"Madhul has provided architectural and technical guidance to me on a number of Veeam based projects at Fujitsu, the largest being design of a new BaaS solution.\n",
      "I've found Madhul to be very knowledgeable and extremely diligent in providing design reviews, responding to queries etc. and if he doesn't know the answer straight away he will certainly find it for me quickly. He has an excellent ability to be able to clearly explain complex technologies and the pros and cons of the different available options.\n",
      "Madhul is highly professional and has been very flexible in providing timely assistance where this has been urgently required and his assistance has been immense. Madhul has been very personable and easy to work with and I look forward to working together with him on more projects in future.\"\n",
      "Christopher Hertz - Rapid7\n",
      "Vice President, Cloud Security Sales - Chris managed Madhul directly\n",
      "\"I had the privilege of working with Madhul at 𝐑𝐚𝐩𝐢𝐝7 where he played a key and important role in helping enterprise customers achieve continuous security and compliance for their public cloud systems using the DivvyCloud/ InsightCloudSec product.\n",
      "He impressed me with his dedication to delivering great experiences and value to customers. Additionally, he is one of the rare people who can take complex technical and security concepts and make them accessible to a diverse audience from technical professionals to executives. He helped make Rapid7 a leader in the cloud security category through his ability to understand customers complex challenges and needs, and solve these using Rapid7 technologies.\"\n",
      "Ganesh Doddi - BUPA\n",
      "Senior Infrastructure Engineer - Ganesh was a client of Madhul\n",
      "\"Madhul is a highly dedicated professional in the Disaster Recovery area who demonstrated the ability to communicate at all levels, manage complex relationships and show respect for stakeholders at all times.\n",
      "He assisted us in the deployment of Zerto and associated with developing a DR solution based on Zerto and continually showed professionalism, always going the extra mile.\"\n",
      "Bharat Bhooshan - VicTrack\n",
      "Senior Systems Engineer - Bharath was a client of Madhul’s\n",
      "\"Madhul is a brilliant Pre-Sales Engineer. His technical and interpersonal skills as well as his outstanding communication skills helped us deliver a complex DRaaS solution to a project on time and to our customers best satisfaction. Madhul is highly knowledgeable in his domain of expertise and has an innate ability to lead and deliver high-quality solutions.\n",
      "I enjoyed working with Madhul both professionally and as a friend, I would highly recommend Madhul and his work to anyone.\"\n",
      "Lambros Pasialis - Insurance Australia Group\n",
      "Server Engineer at IAG - Lambros was a client of Madhul's\n",
      "\"Madhul is hard worker and a very motivated professional who has exceptional skills in working with customers and achieving goals set in an enterprise business.\n",
      "As a contact, Madhul always strives to be available and get things done, knowing that this is key to supporting large businesses. I highly recommend his skill sets and his professional attitude towards all parties involved, and makes a hard task at hand much more manageable.\"\n",
      "© Copyright 2023  TechnicallySimple.Me  All Rights Reserved.\n",
      "Our Privacy Policy\n",
      "| Home |\n",
      "| Privacy Policy |\n",
      "| Terms of Service |\n",
      "| Send Feedback |\n",
      "Looking for Something?\n",
      "Search anything and hit enter.\n"
     ]
    }
   ],
   "source": [
    "ms=Website(\"https://technicallysimple.me\")\n",
    "print(user_prompt_for(ms))"
   ]
  },
  {
   "cell_type": "code",
   "execution_count": 10,
   "id": "f2369302-7b8c-465e-8606-b9cc0a51cb78",
   "metadata": {},
   "outputs": [],
   "source": [
    "# Create a messages list using the same format that we used for OpenAI\n",
    "def messages_for(website):\n",
    "    return [\n",
    "        {\"role\": \"system\", \"content\": system_prompt},\n",
    "        {\"role\": \"user\", \"content\": user_prompt_for(website)}\n",
    "    ]"
   ]
  },
  {
   "cell_type": "code",
   "execution_count": 11,
   "id": "a73d69c1-87fb-4e82-94f1-50dd76fb5e60",
   "metadata": {},
   "outputs": [
    {
     "ename": "NameError",
     "evalue": "name 'Website' is not defined",
     "output_type": "error",
     "traceback": [
      "\u001b[0;31m---------------------------------------------------------------------------\u001b[0m",
      "\u001b[0;31mNameError\u001b[0m                                 Traceback (most recent call last)",
      "Cell \u001b[0;32mIn[11], line 1\u001b[0m\n\u001b[0;32m----> 1\u001b[0m me\u001b[38;5;241m=\u001b[39m\u001b[43mWebsite\u001b[49m(\u001b[38;5;124m\"\u001b[39m\u001b[38;5;124mhttps://technicallysimple.me\u001b[39m\u001b[38;5;124m\"\u001b[39m)\n\u001b[1;32m      2\u001b[0m \u001b[38;5;28mprint\u001b[39m(messages_for(me))\n",
      "\u001b[0;31mNameError\u001b[0m: name 'Website' is not defined"
     ]
    }
   ],
   "source": [
    "me=Website(\"https://technicallysimple.me\")\n",
    "print(messages_for(me))"
   ]
  },
  {
   "cell_type": "code",
   "execution_count": 9,
   "id": "16ae9026-1684-4cc3-9859-f2cd7d22fb52",
   "metadata": {},
   "outputs": [],
   "source": [
    "def summarise(url):\n",
    "    try:\n",
    "        aWebsite = Website(url)\n",
    "        response = ollama_via_openai.chat.completions.create(\n",
    "            model=MODEL,\n",
    "            messages=messages_for(aWebsite)\n",
    "        )\n",
    "        return response.choices[0].message.content\n",
    "    except ConnectionError as e:\n",
    "        return f\"Error: {str(e)}\"\n",
    "    except Exception as e:\n",
    "        return f\"An unexpected error occurred: {str(e)}\""
   ]
  },
  {
   "cell_type": "code",
   "execution_count": 31,
   "id": "bcbd5962-3a75-4e94-a07e-463e874c9131",
   "metadata": {},
   "outputs": [],
   "source": [
    "import ollama\n",
    "\n",
    "def summarise(url):\n",
    "    try:\n",
    "        aWebsite = Website(url)\n",
    "        response = ollama.chat(model=MODEL, messages=messages_for(aWebsite))\n",
    "        return response['message']['content']\n",
    "    except ConnectionError as e:\n",
    "        return f\"Error: {str(e)}\"\n",
    "    except Exception as e:\n",
    "        return f\"An unexpected error occurred: {str(e)}\"\n",
    "\n",
    "#print(response['message']['content'])"
   ]
  },
  {
   "cell_type": "code",
   "execution_count": 10,
   "id": "4e0f7264-9622-4751-83b9-a31c3c0c4589",
   "metadata": {},
   "outputs": [],
   "source": [
    "def display_summary(url):\n",
    "    try:\n",
    "        summary = summarise(url)\n",
    "        display(Markdown(summary))\n",
    "    except Exception as e:\n",
    "        print(f\"Failed to display summary: {str(e)}\")"
   ]
  },
  {
   "cell_type": "code",
   "execution_count": null,
   "id": "40aba8f2-577f-4003-bf46-377cc815f243",
   "metadata": {},
   "outputs": [],
   "source": [
    "address=input(\"Enter URL: \")\n",
    "summarise(address)"
   ]
  },
  {
   "cell_type": "code",
   "execution_count": 11,
   "id": "d8659653-d3a1-4cc1-bbd8-a003fb22041f",
   "metadata": {},
   "outputs": [
    {
     "data": {
      "text/markdown": [
       "Wiz appears to be a cloud security platform that offers a range of features and integrations to help organizations protect their cloud workloads. Here are some key points about Wiz:\n",
       "\n",
       "**Key Features:**\n",
       "\n",
       "1. **Cloud Security Posture Management (CSPM):** Wiz provides a comprehensive CSPM solution that helps organizations identify and remediate security vulnerabilities in their cloud infrastructure.\n",
       "2. **Integrations:** Wiz integrates with over 100 cloud providers, including AWS, Azure, Google Cloud Platform, and more.\n",
       "3. **Security Graphs:** Wiz offers Security Graphs, an innovative feature that enables users to visualize and manage cloud security in a intuitive way.\n",
       "4. **Bi-directional Sharing:** Wiz's Integration (WIN) platform allows for bi-directional sharing of security findings across the cloud security ecosystem.\n",
       "\n",
       "**Awards and Recognition:**\n",
       "\n",
       "1. **Forrester Wave:** Wiz was recognized as a top scorer in The Forrester Wave: Cloud Workload Security, Q1 2024.\n",
       "2. **Frost & Sullivan:** Wiz was recognized as a leader in Cloud Security Posture Management, 2024.\n",
       "3. **G2 Grid:** Wiz is a market leader in product, with a 4.7-star rating on G2 Grid for Cloud-Native Application Protection Platforms (CNAPP).\n",
       "\n",
       "**Customer Testimonials:**\n",
       "\n",
       "1. **Igor Tsyganskiy:** Global CISO at Bridgewater Associates praised Wiz as \"something very right\".\n",
       "2. **Illyan Tytel:** Wiz simplified Azure security, allowing teams to communicate with other teams.\n",
       "\n",
       "**Resources:**\n",
       "\n",
       "1. **Blog:** The Wiz blog offers tutorials, research, and insights on cloud security.\n",
       "2. **CloudSec Academy:** Wiz offers a Cloud Security Awareness platform for training and education.\n",
       "3. **Customer Stories:** Wiz shares stories of its customers' success with the platform.\n",
       "\n",
       "Overall, Wiz appears to be a comprehensive cloud security platform that offers innovative features, integrations, and recognition from leading research firms."
      ],
      "text/plain": [
       "<IPython.core.display.Markdown object>"
      ]
     },
     "metadata": {},
     "output_type": "display_data"
    }
   ],
   "source": [
    "address=input(\"Enter URL: \")\n",
    "display_summary(address)"
   ]
  },
  {
   "cell_type": "code",
   "execution_count": null,
   "id": "aff32906-2401-4d92-b377-c91ee572e208",
   "metadata": {},
   "outputs": [],
   "source": []
  }
 ],
 "metadata": {
  "kernelspec": {
   "display_name": "llms",
   "language": "python",
   "name": "python3"
  },
  "language_info": {
   "codemirror_mode": {
    "name": "ipython",
    "version": 3
   },
   "file_extension": ".py",
   "mimetype": "text/x-python",
   "name": "python",
   "nbconvert_exporter": "python",
   "pygments_lexer": "ipython3",
   "version": "3.11.11"
  }
 },
 "nbformat": 4,
 "nbformat_minor": 5
}
